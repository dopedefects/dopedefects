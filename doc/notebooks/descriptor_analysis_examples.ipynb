{
 "cells": [
  {
   "cell_type": "markdown",
   "metadata": {},
   "source": [
    "Import needed libraries:"
   ]
  },
  {
   "cell_type": "code",
   "execution_count": 1,
   "metadata": {},
   "outputs": [],
   "source": [
    "import math\n",
    "import matplotlib.pyplot as plt\n",
    "import pandas as pd\n",
    "import numpy as np\n",
    "from sklearn.linear_model import Lasso\n",
    "from sklearn.linear_model import Ridge\n",
    "from sklearn.linear_model import LinearRegression\n",
    "from sklearn.feature_selection import RFE\n",
    "from sklearn.model_selection import train_test_split\n",
    "from sklearn.ensemble import RandomForestRegressor\n",
    "from sklearn.metrics import mean_squared_error as MSE"
   ]
  },
  {
   "cell_type": "markdown",
   "metadata": {},
   "source": [
    "Import **descriptor_analysis** functions:"
   ]
  },
  {
   "cell_type": "code",
   "execution_count": 2,
   "metadata": {},
   "outputs": [],
   "source": [
    "import descriptor_analysis as da"
   ]
  },
  {
   "cell_type": "markdown",
   "metadata": {},
   "source": [
    "The following command gets data from the HDF5 file created by **build_data**:"
   ]
  },
  {
   "cell_type": "code",
   "execution_count": 3,
   "metadata": {},
   "outputs": [],
   "source": [
    "df, el, unit, dEl, coul, dCell, cell = da.get_data_h5('data.hdf5')"
   ]
  },
  {
   "cell_type": "markdown",
   "metadata": {},
   "source": [
    "Here:\n",
    "* **df** hold the pandas dataframe created from the HDF5 file\n",
    "* **el** holds the elemental descriptor columns\n",
    "* **unit** holds the unit cell descriptor columns\n",
    "* **dEl** holds the $\\Delta$elemental descriptor columns\n",
    "* **coul** holds the coluomb matrix descriptor columns\n",
    "* **dCell** holds the $\\Delta$cell descriptor columns \n",
    "* **cell** holds the cell descriptor columns\n",
    "\n",
    "The dataframe looks as follows:"
   ]
  },
  {
   "cell_type": "code",
   "execution_count": 4,
   "metadata": {},
   "outputs": [
    {
     "data": {
      "text/html": [
       "<div>\n",
       "<style scoped>\n",
       "    .dataframe tbody tr th:only-of-type {\n",
       "        vertical-align: middle;\n",
       "    }\n",
       "\n",
       "    .dataframe tbody tr th {\n",
       "        vertical-align: top;\n",
       "    }\n",
       "\n",
       "    .dataframe thead th {\n",
       "        text-align: right;\n",
       "    }\n",
       "</style>\n",
       "<table border=\"1\" class=\"dataframe\">\n",
       "  <thead>\n",
       "    <tr style=\"text-align: right;\">\n",
       "      <th></th>\n",
       "      <th>M</th>\n",
       "      <th>CdX</th>\n",
       "      <th>Doping Site</th>\n",
       "      <th>dH(Cd-rich)</th>\n",
       "      <th>dH(Mod)</th>\n",
       "      <th>dH(X-rich)</th>\n",
       "      <th>(+3/+2)</th>\n",
       "      <th>(+2/+1)</th>\n",
       "      <th>(+1/0)</th>\n",
       "      <th>(0/-1)</th>\n",
       "      <th>...</th>\n",
       "      <th>Coulomb_54</th>\n",
       "      <th>Coulomb_55</th>\n",
       "      <th>Coulomb_56</th>\n",
       "      <th>Coulomb_57</th>\n",
       "      <th>Coulomb_58</th>\n",
       "      <th>Coulomb_59</th>\n",
       "      <th>Coulomb_60</th>\n",
       "      <th>Coulomb_61</th>\n",
       "      <th>Coulomb_62</th>\n",
       "      <th>Coulomb_63</th>\n",
       "    </tr>\n",
       "  </thead>\n",
       "  <tbody>\n",
       "    <tr>\n",
       "      <th>13</th>\n",
       "      <td>In</td>\n",
       "      <td>CdS</td>\n",
       "      <td>M_Cd</td>\n",
       "      <td>1.375</td>\n",
       "      <td>0.612</td>\n",
       "      <td>0.932</td>\n",
       "      <td>-0.810</td>\n",
       "      <td>-0.482</td>\n",
       "      <td>1.527</td>\n",
       "      <td>2.117</td>\n",
       "      <td>...</td>\n",
       "      <td>5419.372136</td>\n",
       "      <td>1.000000e+07</td>\n",
       "      <td>0.0</td>\n",
       "      <td>0.0</td>\n",
       "      <td>0.0</td>\n",
       "      <td>0.0</td>\n",
       "      <td>0.0</td>\n",
       "      <td>0.0</td>\n",
       "      <td>0.0</td>\n",
       "      <td>5419.372136</td>\n",
       "    </tr>\n",
       "    <tr>\n",
       "      <th>25</th>\n",
       "      <td>O</td>\n",
       "      <td>CdS</td>\n",
       "      <td>M_Cd</td>\n",
       "      <td>7.521</td>\n",
       "      <td>6.220</td>\n",
       "      <td>5.564</td>\n",
       "      <td>-0.872</td>\n",
       "      <td>-0.298</td>\n",
       "      <td>0.099</td>\n",
       "      <td>0.467</td>\n",
       "      <td>...</td>\n",
       "      <td>5419.372136</td>\n",
       "      <td>1.000000e+07</td>\n",
       "      <td>0.0</td>\n",
       "      <td>0.0</td>\n",
       "      <td>0.0</td>\n",
       "      <td>0.0</td>\n",
       "      <td>0.0</td>\n",
       "      <td>0.0</td>\n",
       "      <td>0.0</td>\n",
       "      <td>5419.372136</td>\n",
       "    </tr>\n",
       "    <tr>\n",
       "      <th>26</th>\n",
       "      <td>S</td>\n",
       "      <td>CdS</td>\n",
       "      <td>M_Cd</td>\n",
       "      <td>6.043</td>\n",
       "      <td>4.731</td>\n",
       "      <td>3.418</td>\n",
       "      <td>-0.799</td>\n",
       "      <td>0.462</td>\n",
       "      <td>0.835</td>\n",
       "      <td>1.325</td>\n",
       "      <td>...</td>\n",
       "      <td>5419.372136</td>\n",
       "      <td>1.481904e+03</td>\n",
       "      <td>0.0</td>\n",
       "      <td>0.0</td>\n",
       "      <td>0.0</td>\n",
       "      <td>0.0</td>\n",
       "      <td>0.0</td>\n",
       "      <td>0.0</td>\n",
       "      <td>0.0</td>\n",
       "      <td>5419.372136</td>\n",
       "    </tr>\n",
       "    <tr>\n",
       "      <th>27</th>\n",
       "      <td>Se</td>\n",
       "      <td>CdS</td>\n",
       "      <td>M_Cd</td>\n",
       "      <td>5.597</td>\n",
       "      <td>4.296</td>\n",
       "      <td>2.994</td>\n",
       "      <td>-0.770</td>\n",
       "      <td>0.644</td>\n",
       "      <td>1.044</td>\n",
       "      <td>1.527</td>\n",
       "      <td>...</td>\n",
       "      <td>5419.372136</td>\n",
       "      <td>1.000000e+07</td>\n",
       "      <td>0.0</td>\n",
       "      <td>0.0</td>\n",
       "      <td>0.0</td>\n",
       "      <td>0.0</td>\n",
       "      <td>0.0</td>\n",
       "      <td>0.0</td>\n",
       "      <td>0.0</td>\n",
       "      <td>5419.372136</td>\n",
       "    </tr>\n",
       "    <tr>\n",
       "      <th>35</th>\n",
       "      <td>V</td>\n",
       "      <td>CdS</td>\n",
       "      <td>M_Cd</td>\n",
       "      <td>1.637</td>\n",
       "      <td>1.850</td>\n",
       "      <td>2.447</td>\n",
       "      <td>-0.291</td>\n",
       "      <td>0.001</td>\n",
       "      <td>1.333</td>\n",
       "      <td>1.984</td>\n",
       "      <td>...</td>\n",
       "      <td>5419.372136</td>\n",
       "      <td>1.000000e+07</td>\n",
       "      <td>0.0</td>\n",
       "      <td>0.0</td>\n",
       "      <td>0.0</td>\n",
       "      <td>0.0</td>\n",
       "      <td>0.0</td>\n",
       "      <td>0.0</td>\n",
       "      <td>0.0</td>\n",
       "      <td>5419.372136</td>\n",
       "    </tr>\n",
       "  </tbody>\n",
       "</table>\n",
       "<p>5 rows × 183 columns</p>\n",
       "</div>"
      ],
      "text/plain": [
       "     M  CdX Doping Site  dH(Cd-rich)  dH(Mod)  dH(X-rich)  (+3/+2)  (+2/+1)  \\\n",
       "13  In  CdS        M_Cd        1.375    0.612       0.932   -0.810   -0.482   \n",
       "25   O  CdS        M_Cd        7.521    6.220       5.564   -0.872   -0.298   \n",
       "26   S  CdS        M_Cd        6.043    4.731       3.418   -0.799    0.462   \n",
       "27  Se  CdS        M_Cd        5.597    4.296       2.994   -0.770    0.644   \n",
       "35   V  CdS        M_Cd        1.637    1.850       2.447   -0.291    0.001   \n",
       "\n",
       "    (+1/0)  (0/-1)  ...   Coulomb_54    Coulomb_55  Coulomb_56  Coulomb_57  \\\n",
       "13   1.527   2.117  ...  5419.372136  1.000000e+07         0.0         0.0   \n",
       "25   0.099   0.467  ...  5419.372136  1.000000e+07         0.0         0.0   \n",
       "26   0.835   1.325  ...  5419.372136  1.481904e+03         0.0         0.0   \n",
       "27   1.044   1.527  ...  5419.372136  1.000000e+07         0.0         0.0   \n",
       "35   1.333   1.984  ...  5419.372136  1.000000e+07         0.0         0.0   \n",
       "\n",
       "    Coulomb_58  Coulomb_59  Coulomb_60  Coulomb_61  Coulomb_62   Coulomb_63  \n",
       "13         0.0         0.0         0.0         0.0         0.0  5419.372136  \n",
       "25         0.0         0.0         0.0         0.0         0.0  5419.372136  \n",
       "26         0.0         0.0         0.0         0.0         0.0  5419.372136  \n",
       "27         0.0         0.0         0.0         0.0         0.0  5419.372136  \n",
       "35         0.0         0.0         0.0         0.0         0.0  5419.372136  \n",
       "\n",
       "[5 rows x 183 columns]"
      ]
     },
     "execution_count": 4,
     "metadata": {},
     "output_type": "execute_result"
    }
   ],
   "source": [
    "df.head()"
   ]
  },
  {
   "cell_type": "markdown",
   "metadata": {},
   "source": [
    "The following command gets data from the csv files provided:"
   ]
  },
  {
   "cell_type": "code",
   "execution_count": 5,
   "metadata": {},
   "outputs": [],
   "source": [
    "df_2 = da.get_data_csv('CdTe')"
   ]
  },
  {
   "cell_type": "markdown",
   "metadata": {},
   "source": [
    "This dataframe looks as follows:"
   ]
  },
  {
   "cell_type": "code",
   "execution_count": 6,
   "metadata": {},
   "outputs": [
    {
     "data": {
      "text/html": [
       "<div>\n",
       "<style scoped>\n",
       "    .dataframe tbody tr th:only-of-type {\n",
       "        vertical-align: middle;\n",
       "    }\n",
       "\n",
       "    .dataframe tbody tr th {\n",
       "        vertical-align: top;\n",
       "    }\n",
       "\n",
       "    .dataframe thead th {\n",
       "        text-align: right;\n",
       "    }\n",
       "</style>\n",
       "<table border=\"1\" class=\"dataframe\">\n",
       "  <thead>\n",
       "    <tr style=\"text-align: right;\">\n",
       "      <th></th>\n",
       "      <th>∆H(Cd-rich)</th>\n",
       "      <th>∆H(Mod)</th>\n",
       "      <th>∆H(X-rich)</th>\n",
       "      <th>(+3/+2)</th>\n",
       "      <th>(+2/+1)</th>\n",
       "      <th>(+1/0)</th>\n",
       "      <th>(0/-1)</th>\n",
       "      <th>(-1/-2)</th>\n",
       "      <th>(-2/-3)</th>\n",
       "      <th>Period</th>\n",
       "      <th>...</th>\n",
       "      <th>Delta EN</th>\n",
       "      <th>Delta At. Num.</th>\n",
       "      <th>Delta Val.</th>\n",
       "      <th># Cd Neighbors</th>\n",
       "      <th># X Neighbors</th>\n",
       "      <th>Corrected VBM (eV)</th>\n",
       "      <th>Corrected CBM (eV)</th>\n",
       "      <th>∆H_uc(Cd-rich)</th>\n",
       "      <th>∆H_uc(Mod)</th>\n",
       "      <th>∆H_uc(X-rich)</th>\n",
       "    </tr>\n",
       "  </thead>\n",
       "  <tbody>\n",
       "    <tr>\n",
       "      <th>0</th>\n",
       "      <td>1.305</td>\n",
       "      <td>0.838</td>\n",
       "      <td>0.601</td>\n",
       "      <td>-0.851</td>\n",
       "      <td>-0.558</td>\n",
       "      <td>-0.262</td>\n",
       "      <td>0.052</td>\n",
       "      <td>1.775</td>\n",
       "      <td>2.293</td>\n",
       "      <td>2</td>\n",
       "      <td>...</td>\n",
       "      <td>-0.71</td>\n",
       "      <td>-45</td>\n",
       "      <td>-1</td>\n",
       "      <td>0</td>\n",
       "      <td>4</td>\n",
       "      <td>1.171</td>\n",
       "      <td>1.156</td>\n",
       "      <td>1.516</td>\n",
       "      <td>1.048</td>\n",
       "      <td>0.812</td>\n",
       "    </tr>\n",
       "    <tr>\n",
       "      <th>1</th>\n",
       "      <td>1.317</td>\n",
       "      <td>1.080</td>\n",
       "      <td>0.989</td>\n",
       "      <td>-0.756</td>\n",
       "      <td>-0.480</td>\n",
       "      <td>-0.187</td>\n",
       "      <td>0.142</td>\n",
       "      <td>1.856</td>\n",
       "      <td>2.316</td>\n",
       "      <td>3</td>\n",
       "      <td>...</td>\n",
       "      <td>-0.76</td>\n",
       "      <td>-37</td>\n",
       "      <td>-1</td>\n",
       "      <td>0</td>\n",
       "      <td>4</td>\n",
       "      <td>1.331</td>\n",
       "      <td>1.316</td>\n",
       "      <td>1.410</td>\n",
       "      <td>1.173</td>\n",
       "      <td>1.083</td>\n",
       "    </tr>\n",
       "    <tr>\n",
       "      <th>2</th>\n",
       "      <td>1.892</td>\n",
       "      <td>1.655</td>\n",
       "      <td>1.677</td>\n",
       "      <td>-0.601</td>\n",
       "      <td>-0.277</td>\n",
       "      <td>-0.083</td>\n",
       "      <td>0.253</td>\n",
       "      <td>1.904</td>\n",
       "      <td>2.463</td>\n",
       "      <td>4</td>\n",
       "      <td>...</td>\n",
       "      <td>-0.87</td>\n",
       "      <td>-29</td>\n",
       "      <td>-1</td>\n",
       "      <td>0</td>\n",
       "      <td>4</td>\n",
       "      <td>1.662</td>\n",
       "      <td>1.647</td>\n",
       "      <td>2.179</td>\n",
       "      <td>1.942</td>\n",
       "      <td>1.965</td>\n",
       "    </tr>\n",
       "    <tr>\n",
       "      <th>3</th>\n",
       "      <td>2.123</td>\n",
       "      <td>1.886</td>\n",
       "      <td>2.041</td>\n",
       "      <td>-0.552</td>\n",
       "      <td>-0.258</td>\n",
       "      <td>0.024</td>\n",
       "      <td>0.354</td>\n",
       "      <td>1.968</td>\n",
       "      <td>2.422</td>\n",
       "      <td>5</td>\n",
       "      <td>...</td>\n",
       "      <td>-0.87</td>\n",
       "      <td>-11</td>\n",
       "      <td>2</td>\n",
       "      <td>0</td>\n",
       "      <td>4</td>\n",
       "      <td>2.155</td>\n",
       "      <td>2.140</td>\n",
       "      <td>2.563</td>\n",
       "      <td>2.326</td>\n",
       "      <td>2.481</td>\n",
       "    </tr>\n",
       "    <tr>\n",
       "      <th>4</th>\n",
       "      <td>2.392</td>\n",
       "      <td>2.155</td>\n",
       "      <td>2.375</td>\n",
       "      <td>-0.453</td>\n",
       "      <td>-0.234</td>\n",
       "      <td>0.103</td>\n",
       "      <td>0.469</td>\n",
       "      <td>1.972</td>\n",
       "      <td>2.514</td>\n",
       "      <td>6</td>\n",
       "      <td>...</td>\n",
       "      <td>-0.90</td>\n",
       "      <td>7</td>\n",
       "      <td>-1</td>\n",
       "      <td>0</td>\n",
       "      <td>4</td>\n",
       "      <td>2.000</td>\n",
       "      <td>2.000</td>\n",
       "      <td>3.000</td>\n",
       "      <td>3.000</td>\n",
       "      <td>3.000</td>\n",
       "    </tr>\n",
       "  </tbody>\n",
       "</table>\n",
       "<p>5 rows × 28 columns</p>\n",
       "</div>"
      ],
      "text/plain": [
       "   ∆H(Cd-rich)  ∆H(Mod)  ∆H(X-rich)  (+3/+2)  (+2/+1)  (+1/0)  (0/-1)  \\\n",
       "0        1.305    0.838       0.601   -0.851   -0.558  -0.262   0.052   \n",
       "1        1.317    1.080       0.989   -0.756   -0.480  -0.187   0.142   \n",
       "2        1.892    1.655       1.677   -0.601   -0.277  -0.083   0.253   \n",
       "3        2.123    1.886       2.041   -0.552   -0.258   0.024   0.354   \n",
       "4        2.392    2.155       2.375   -0.453   -0.234   0.103   0.469   \n",
       "\n",
       "   (-1/-2)  (-2/-3)  Period  ...  Delta EN  Delta At. Num.  Delta Val.  \\\n",
       "0    1.775    2.293       2  ...     -0.71             -45          -1   \n",
       "1    1.856    2.316       3  ...     -0.76             -37          -1   \n",
       "2    1.904    2.463       4  ...     -0.87             -29          -1   \n",
       "3    1.968    2.422       5  ...     -0.87             -11           2   \n",
       "4    1.972    2.514       6  ...     -0.90               7          -1   \n",
       "\n",
       "   # Cd Neighbors  # X Neighbors  Corrected VBM (eV)  Corrected CBM (eV)  \\\n",
       "0               0              4               1.171               1.156   \n",
       "1               0              4               1.331               1.316   \n",
       "2               0              4               1.662               1.647   \n",
       "3               0              4               2.155               2.140   \n",
       "4               0              4               2.000               2.000   \n",
       "\n",
       "   ∆H_uc(Cd-rich)  ∆H_uc(Mod)  ∆H_uc(X-rich)  \n",
       "0           1.516       1.048          0.812  \n",
       "1           1.410       1.173          1.083  \n",
       "2           2.179       1.942          1.965  \n",
       "3           2.563       2.326          2.481  \n",
       "4           3.000       3.000          3.000  \n",
       "\n",
       "[5 rows x 28 columns]"
      ]
     },
     "execution_count": 6,
     "metadata": {},
     "output_type": "execute_result"
    }
   ],
   "source": [
    "df_2.head()"
   ]
  },
  {
   "cell_type": "markdown",
   "metadata": {},
   "source": [
    "Now that we have some data to work with, we can run some models including:\n",
    "\n",
    "* Ridge Regression\n",
    "* Lasso Regression\n",
    "* Random Forest\n",
    "\n",
    "In order to do this we will need to have a set of descriptors (X), things we would like to predict (Y), and a data file for the test output. There is also a print option that can be set to true so that the R-squared and RMSE print to the screen. In these example we will use the $\\Delta$elemental descriptors to predict the (+3/+2) charge transfer state."
   ]
  },
  {
   "cell_type": "code",
   "execution_count": 7,
   "metadata": {},
   "outputs": [],
   "source": [
    "X = df[dEl]\n",
    "Y = df['(+3/+2)']\n",
    "\n",
    "data_file = open('descriptor_analysis_example.dat', 'w')"
   ]
  },
  {
   "cell_type": "markdown",
   "metadata": {},
   "source": [
    "To run lasso regression:"
   ]
  },
  {
   "cell_type": "code",
   "execution_count": 8,
   "metadata": {},
   "outputs": [
    {
     "name": "stdout",
     "output_type": "stream",
     "text": [
      "\n",
      "\t\tLasso Regression Score with alpha=0.001000: \t0.306895\n",
      "\n",
      "\t\tRMSE: \t\t0.402005\n"
     ]
    }
   ],
   "source": [
    "plus_2_lasso_list = da.lasso_reg(X,Y,data_file, p=True)"
   ]
  },
  {
   "cell_type": "markdown",
   "metadata": {},
   "source": [
    "To run ridge regression:"
   ]
  },
  {
   "cell_type": "code",
   "execution_count": 9,
   "metadata": {},
   "outputs": [
    {
     "name": "stdout",
     "output_type": "stream",
     "text": [
      "\n",
      "\t\tLasso Regression Score with alpha=0.001000: \t0.306895\n",
      "\n",
      "\t\tRMSE: \t\t0.402005\n"
     ]
    }
   ],
   "source": [
    "plus_2_ridge_list = da.lasso_reg(X,Y,data_file, p=True)"
   ]
  },
  {
   "cell_type": "markdown",
   "metadata": {},
   "source": [
    "To run random forest:"
   ]
  },
  {
   "cell_type": "code",
   "execution_count": 10,
   "metadata": {},
   "outputs": [
    {
     "name": "stdout",
     "output_type": "stream",
     "text": [
      "\n",
      "\t\tRandom Forest Regression n=1000: \t\t0.656986\n",
      "\n",
      "\t\tRMSE: \t\t0.282806\n"
     ]
    }
   ],
   "source": [
    "plus_2_rf_list = da.rf_reg(X,Y,data_file, p=True)"
   ]
  },
  {
   "cell_type": "markdown",
   "metadata": {},
   "source": [
    "We can see that Random Forrest is the most accurate, with the lowest RMSE and highest R-Squared value, so lets look to see how the descriptors were weighted using a bar chart:"
   ]
  },
  {
   "cell_type": "code",
   "execution_count": 11,
   "metadata": {},
   "outputs": [
    {
     "name": "stdout",
     "output_type": "stream",
     "text": [
      "[[0.01757887 0.06509793 0.01947892 0.08348214 0.0396209  0.09098795\n",
      "  0.06714064 0.05495921 0.04923396 0.12632582 0.03895128 0.07635617\n",
      "  0.00766442 0.00849805 0.02488358 0.01423962 0.00050556 0.1446682\n",
      "  0.07032677]]\n"
     ]
    },
    {
     "data": {
      "image/png": "[encoded data removed]",
      "text/plain": [
       "<Figure size 432x288 with 1 Axes>"
      ]
     },
     "metadata": {
      "needs_background": "light"
     },
     "output_type": "display_data"
    }
   ],
   "source": [
    "print(plus_2_rf_list)\n",
    "\n",
    "plt.bar(np.arange(len(plus_2_rf_list[0])), plus_2_rf_list[0])\n",
    "plt.xticks(np.arange(len(plus_2_rf_list[0])), dEl, rotation=90)\n",
    "plt.xlabel(\"Descriptors\")\n",
    "plt.ylabel(\"Coefficients\")\n",
    "plt.show()"
   ]
  },
  {
   "cell_type": "markdown",
   "metadata": {},
   "source": [
    "If we just want to look at a smaller set of data from one of the csv files, we can use **do_feature_selection** to run all three types of regression. Here is an example for the CdTe data:"
   ]
  },
  {
   "cell_type": "code",
   "execution_count": 12,
   "metadata": {},
   "outputs": [],
   "source": [
    "CdTeCoefs = da.do_feature_selection('CdTe',data_file)"
   ]
  },
  {
   "cell_type": "markdown",
   "metadata": {},
   "source": [
    "From here we can separate the coefficient output into lists for each thing we are trying to predict:"
   ]
  },
  {
   "cell_type": "code",
   "execution_count": 13,
   "metadata": {},
   "outputs": [],
   "source": [
    "cd_list, mod_list, x_list, \\\n",
    "plus_3_list, plus_2_list, plus_1_list, \\\n",
    "minus_1_list, minus_2_list, minus_3_list = CdTeCoefs"
   ]
  },
  {
   "cell_type": "markdown",
   "metadata": {},
   "source": [
    "Here is an example of how to plot the coefficients for $\\Delta$H(Cd-rich):"
   ]
  },
  {
   "cell_type": "code",
   "execution_count": 14,
   "metadata": {},
   "outputs": [
    {
     "data": {
      "text/plain": [
       "<matplotlib.colorbar.Colorbar at 0x1a22f68518>"
      ]
     },
     "execution_count": 14,
     "metadata": {},
     "output_type": "execute_result"
    },
    {
     "data": {
      "image/png": "[encoded data removed]",
      "text/plain": [
       "<Figure size 432x288 with 2 Axes>"
      ]
     },
     "metadata": {
      "needs_background": "light"
     },
     "output_type": "display_data"
    }
   ],
   "source": [
    "plt.pcolor(cd_list, cmap=plt.cm.PRGn, vmin=-1, vmax=1)\n",
    "plt.yticks(np.arange(0.5,3),['Lasso', 'Ridge', 'Random Forest'])\n",
    "plt.xticks(np.arange(0.5,19),['Period', 'Group', 'Site', 'Delta Ion. Rad.', 'Delta At. Wt.',\n",
    "            'Delta Cov. Rad.', 'Delta Ion. En.', 'Delta At. Rad.', 'Delta EA',\n",
    "            'Delta EN', 'Delta At. Num.', 'Delta Val.', '# Cd Neighbors',\n",
    "            '# Te Neighbors', 'Corrected VBM (eV)', 'Corrected CBM (eV)',\n",
    "            '∆H(Cd-rich)', '∆H(Mod)', '∆H(Te-rich)'], rotation=90)\n",
    "plt.xlabel('Regression Models')\n",
    "plt.ylabel('Descriptors')\n",
    "plt.title('∆H(Cd-rich) for CdTe')\n",
    "plt.colorbar()"
   ]
  },
  {
   "cell_type": "code",
   "execution_count": null,
   "metadata": {},
   "outputs": [],
   "source": []
  }
 ],
 "metadata": {
  "kernelspec": {
   "display_name": "Python 3",
   "language": "python",
   "name": "python3"
  },
  "language_info": {
   "codemirror_mode": {
    "name": "ipython",
    "version": 3
   },
   "file_extension": ".py",
   "mimetype": "text/x-python",
   "name": "python",
   "nbconvert_exporter": "python",
   "pygments_lexer": "ipython3",
   "version": "3.7.3"
  }
 },
 "nbformat": 4,
 "nbformat_minor": 2
}
