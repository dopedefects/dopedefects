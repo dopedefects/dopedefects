{
 "cells": [
  {
   "cell_type": "code",
   "execution_count": 235,
   "metadata": {},
   "outputs": [],
   "source": [
    "import numpy as np\n",
    "import pandas as pd\n",
    "from sklearn.model_selection import train_test_split\n",
    "import matplotlib.pyplot as plt\n",
    "\n",
    "from keras.models import Sequential\n",
    "from keras.layers import Dense\n",
    "from sklearn.preprocessing import MinMaxScaler\n",
    "from sklearn.metrics import mean_squared_error"
   ]
  },
  {
   "cell_type": "code",
   "execution_count": 236,
   "metadata": {},
   "outputs": [
    {
     "data": {
      "text/html": [
       "<div>\n",
       "<style scoped>\n",
       "    .dataframe tbody tr th:only-of-type {\n",
       "        vertical-align: middle;\n",
       "    }\n",
       "\n",
       "    .dataframe tbody tr th {\n",
       "        vertical-align: top;\n",
       "    }\n",
       "\n",
       "    .dataframe thead th {\n",
       "        text-align: right;\n",
       "    }\n",
       "</style>\n",
       "<table border=\"1\" class=\"dataframe\">\n",
       "  <thead>\n",
       "    <tr style=\"text-align: right;\">\n",
       "      <th></th>\n",
       "      <th>M</th>\n",
       "      <th>CdX</th>\n",
       "      <th>Doping Site</th>\n",
       "      <th>?H(Cd-rich)</th>\n",
       "      <th>?H(Mod)</th>\n",
       "      <th>?H(Te-rich)</th>\n",
       "      <th>(+3/+2)</th>\n",
       "      <th>(+2/+1)</th>\n",
       "      <th>(+1/0)</th>\n",
       "      <th>(0/-1)</th>\n",
       "      <th>...</th>\n",
       "      <th>Delta EN</th>\n",
       "      <th>Delta At. Num.</th>\n",
       "      <th>Delta Val.</th>\n",
       "      <th># Cd Neighbors</th>\n",
       "      <th># Te Neighbors</th>\n",
       "      <th>Corrected VBM (eV)</th>\n",
       "      <th>Corrected CBM (eV)</th>\n",
       "      <th>?H(Cd-rich).1</th>\n",
       "      <th>?H(Mod).1</th>\n",
       "      <th>?H(Te-rich).1</th>\n",
       "    </tr>\n",
       "  </thead>\n",
       "  <tbody>\n",
       "    <tr>\n",
       "      <th>0</th>\n",
       "      <td>Li</td>\n",
       "      <td>CdTe</td>\n",
       "      <td>M_Cd</td>\n",
       "      <td>1.305</td>\n",
       "      <td>0.838</td>\n",
       "      <td>0.601</td>\n",
       "      <td>-0.851</td>\n",
       "      <td>-0.558</td>\n",
       "      <td>-0.262</td>\n",
       "      <td>0.052</td>\n",
       "      <td>...</td>\n",
       "      <td>-0.71</td>\n",
       "      <td>-45</td>\n",
       "      <td>-1</td>\n",
       "      <td>0</td>\n",
       "      <td>4</td>\n",
       "      <td>1.171</td>\n",
       "      <td>1.156</td>\n",
       "      <td>1.516</td>\n",
       "      <td>1.048</td>\n",
       "      <td>0.812</td>\n",
       "    </tr>\n",
       "    <tr>\n",
       "      <th>1</th>\n",
       "      <td>Na</td>\n",
       "      <td>CdTe</td>\n",
       "      <td>M_Cd</td>\n",
       "      <td>1.317</td>\n",
       "      <td>1.080</td>\n",
       "      <td>0.989</td>\n",
       "      <td>-0.756</td>\n",
       "      <td>-0.480</td>\n",
       "      <td>-0.187</td>\n",
       "      <td>0.142</td>\n",
       "      <td>...</td>\n",
       "      <td>-0.76</td>\n",
       "      <td>-37</td>\n",
       "      <td>-1</td>\n",
       "      <td>0</td>\n",
       "      <td>4</td>\n",
       "      <td>1.331</td>\n",
       "      <td>1.316</td>\n",
       "      <td>1.410</td>\n",
       "      <td>1.173</td>\n",
       "      <td>1.083</td>\n",
       "    </tr>\n",
       "    <tr>\n",
       "      <th>2</th>\n",
       "      <td>K</td>\n",
       "      <td>CdTe</td>\n",
       "      <td>M_Cd</td>\n",
       "      <td>1.892</td>\n",
       "      <td>1.655</td>\n",
       "      <td>1.677</td>\n",
       "      <td>-0.601</td>\n",
       "      <td>-0.277</td>\n",
       "      <td>-0.083</td>\n",
       "      <td>0.253</td>\n",
       "      <td>...</td>\n",
       "      <td>-0.87</td>\n",
       "      <td>-29</td>\n",
       "      <td>-1</td>\n",
       "      <td>0</td>\n",
       "      <td>4</td>\n",
       "      <td>1.662</td>\n",
       "      <td>1.647</td>\n",
       "      <td>2.179</td>\n",
       "      <td>1.942</td>\n",
       "      <td>1.965</td>\n",
       "    </tr>\n",
       "    <tr>\n",
       "      <th>3</th>\n",
       "      <td>Rb</td>\n",
       "      <td>CdTe</td>\n",
       "      <td>M_Cd</td>\n",
       "      <td>2.123</td>\n",
       "      <td>1.886</td>\n",
       "      <td>2.041</td>\n",
       "      <td>-0.552</td>\n",
       "      <td>-0.258</td>\n",
       "      <td>0.024</td>\n",
       "      <td>0.354</td>\n",
       "      <td>...</td>\n",
       "      <td>-0.87</td>\n",
       "      <td>-11</td>\n",
       "      <td>2</td>\n",
       "      <td>0</td>\n",
       "      <td>4</td>\n",
       "      <td>2.155</td>\n",
       "      <td>2.140</td>\n",
       "      <td>2.563</td>\n",
       "      <td>2.326</td>\n",
       "      <td>2.481</td>\n",
       "    </tr>\n",
       "    <tr>\n",
       "      <th>4</th>\n",
       "      <td>Cs</td>\n",
       "      <td>CdTe</td>\n",
       "      <td>M_Cd</td>\n",
       "      <td>2.392</td>\n",
       "      <td>2.155</td>\n",
       "      <td>2.375</td>\n",
       "      <td>-0.453</td>\n",
       "      <td>-0.234</td>\n",
       "      <td>0.103</td>\n",
       "      <td>0.469</td>\n",
       "      <td>...</td>\n",
       "      <td>-0.90</td>\n",
       "      <td>7</td>\n",
       "      <td>-1</td>\n",
       "      <td>0</td>\n",
       "      <td>4</td>\n",
       "      <td>2.000</td>\n",
       "      <td>2.000</td>\n",
       "      <td>3.000</td>\n",
       "      <td>3.000</td>\n",
       "      <td>3.000</td>\n",
       "    </tr>\n",
       "  </tbody>\n",
       "</table>\n",
       "<p>5 rows × 33 columns</p>\n",
       "</div>"
      ],
      "text/plain": [
       "    M   CdX Doping Site  ?H(Cd-rich)  ?H(Mod)  ?H(Te-rich)  (+3/+2)  (+2/+1)  \\\n",
       "0  Li  CdTe        M_Cd        1.305    0.838        0.601   -0.851   -0.558   \n",
       "1  Na  CdTe        M_Cd        1.317    1.080        0.989   -0.756   -0.480   \n",
       "2   K  CdTe        M_Cd        1.892    1.655        1.677   -0.601   -0.277   \n",
       "3  Rb  CdTe        M_Cd        2.123    1.886        2.041   -0.552   -0.258   \n",
       "4  Cs  CdTe        M_Cd        2.392    2.155        2.375   -0.453   -0.234   \n",
       "\n",
       "   (+1/0)  (0/-1)  ...  Delta EN  Delta At. Num.  Delta Val.  # Cd Neighbors  \\\n",
       "0  -0.262   0.052  ...     -0.71             -45          -1               0   \n",
       "1  -0.187   0.142  ...     -0.76             -37          -1               0   \n",
       "2  -0.083   0.253  ...     -0.87             -29          -1               0   \n",
       "3   0.024   0.354  ...     -0.87             -11           2               0   \n",
       "4   0.103   0.469  ...     -0.90               7          -1               0   \n",
       "\n",
       "   # Te Neighbors  Corrected VBM (eV)  Corrected CBM (eV)  ?H(Cd-rich).1  \\\n",
       "0               4               1.171               1.156          1.516   \n",
       "1               4               1.331               1.316          1.410   \n",
       "2               4               1.662               1.647          2.179   \n",
       "3               4               2.155               2.140          2.563   \n",
       "4               4               2.000               2.000          3.000   \n",
       "\n",
       "   ?H(Mod).1  ?H(Te-rich).1  \n",
       "0      1.048          0.812  \n",
       "1      1.173          1.083  \n",
       "2      1.942          1.965  \n",
       "3      2.326          2.481  \n",
       "4      3.000          3.000  \n",
       "\n",
       "[5 rows x 33 columns]"
      ]
     },
     "execution_count": 236,
     "metadata": {},
     "output_type": "execute_result"
    }
   ],
   "source": [
    "df = pd.read_csv('./data_CdTe.csv')\n",
    "df.head()"
   ]
  },
  {
   "cell_type": "code",
   "execution_count": 237,
   "metadata": {},
   "outputs": [],
   "source": [
    "yHcd = df[\"?H(Te-rich)\"]\n",
    "Xbase = df[[\"Period\", \"Group\", \"Site\",\"# Cd Neighbors\", \"# Te Neighbors\"]]\n",
    "Xelemental = df.iloc[:,17:26]\n",
    "Xdefect = df.iloc[:,28:]\n",
    "X1 = Xbase.join(Xelemental)\n",
    "X2 = Xbase.join(Xdefect)\n",
    "X3 = X1.join(Xdefect)"
   ]
  },
  {
   "cell_type": "code",
   "execution_count": 238,
   "metadata": {},
   "outputs": [],
   "source": [
    "y = yHcd.values[:]\n",
    "X = X3.values[:,:]"
   ]
  },
  {
   "cell_type": "code",
   "execution_count": 239,
   "metadata": {},
   "outputs": [
    {
     "data": {
      "text/plain": [
       "315"
      ]
     },
     "execution_count": 239,
     "metadata": {},
     "output_type": "execute_result"
    }
   ],
   "source": [
    "len(y)"
   ]
  },
  {
   "cell_type": "code",
   "execution_count": 240,
   "metadata": {},
   "outputs": [
    {
     "data": {
      "text/plain": [
       "(array([ 9.,  8., 11., 23., 16., 26., 21., 48., 34., 24., 22., 16., 15.,\n",
       "        12., 14.,  4.,  2.,  5.,  2.,  3.]),\n",
       " array([0.     , 0.44615, 0.8923 , 1.33845, 1.7846 , 2.23075, 2.6769 ,\n",
       "        3.12305, 3.5692 , 4.01535, 4.4615 , 4.90765, 5.3538 , 5.79995,\n",
       "        6.2461 , 6.69225, 7.1384 , 7.58455, 8.0307 , 8.47685, 8.923  ]),\n",
       " <a list of 20 Patch objects>)"
      ]
     },
     "execution_count": 240,
     "metadata": {},
     "output_type": "execute_result"
    },
    {
     "data": {
      "image/png": "[encoded data removed]",
      "text/plain": [
       "<Figure size 432x288 with 1 Axes>"
      ]
     },
     "metadata": {
      "needs_background": "light"
     },
     "output_type": "display_data"
    }
   ],
   "source": [
    "plt.hist(y, bins=20)"
   ]
  },
  {
   "cell_type": "markdown",
   "metadata": {},
   "source": [
    "##### scaling the data to work better with the NN"
   ]
  },
  {
   "cell_type": "code",
   "execution_count": 241,
   "metadata": {},
   "outputs": [],
   "source": [
    "scalarX, scalarY = MinMaxScaler(), MinMaxScaler()\n",
    "scalarX.fit(X)\n",
    "scalarY.fit(y.reshape(315,1))\n",
    "X = scalarX.transform(X)\n",
    "y = scalarY.transform(y.reshape(315,1))"
   ]
  },
  {
   "cell_type": "code",
   "execution_count": 242,
   "metadata": {},
   "outputs": [],
   "source": [
    "X_train, X_test, y_train, y_test = train_test_split(X, y, \n",
    "                                                    test_size=0.2, \n",
    "                                                    random_state=110)"
   ]
  },
  {
   "cell_type": "markdown",
   "metadata": {},
   "source": [
    "##### building the NN - adding layers, compile, fit, and evaluate"
   ]
  },
  {
   "cell_type": "code",
   "execution_count": 243,
   "metadata": {},
   "outputs": [],
   "source": [
    "np.random.seed(100)\n",
    "model = Sequential()\n",
    "\n",
    "model.add(Dense(32, input_dim=19, activation='relu'))\n",
    "model.add(Dense(16, activation='relu'))\n",
    "model.add(Dense(1))"
   ]
  },
  {
   "cell_type": "code",
   "execution_count": 244,
   "metadata": {},
   "outputs": [],
   "source": [
    "model.compile(loss='mse',\n",
    "              optimizer='adam',\n",
    "              metrics=['mae'])"
   ]
  },
  {
   "cell_type": "code",
   "execution_count": 245,
   "metadata": {},
   "outputs": [],
   "source": [
    "history = model.fit(X_train, y_train, validation_split=0.1, shuffle=True, epochs=1000, verbose=0)"
   ]
  },
  {
   "cell_type": "code",
   "execution_count": 246,
   "metadata": {},
   "outputs": [
    {
     "data": {
      "text/plain": [
       "[<matplotlib.lines.Line2D at 0x1ff18e3cb70>]"
      ]
     },
     "execution_count": 246,
     "metadata": {},
     "output_type": "execute_result"
    },
    {
     "data": {
      "image/png": "[encoded data removed]",
      "text/plain": [
       "<Figure size 432x288 with 1 Axes>"
      ]
     },
     "metadata": {
      "needs_background": "light"
     },
     "output_type": "display_data"
    }
   ],
   "source": [
    "plt.plot(history.history['loss'])\n",
    "plt.plot(history.history['val_loss'])"
   ]
  },
  {
   "cell_type": "code",
   "execution_count": 247,
   "metadata": {},
   "outputs": [
    {
     "name": "stdout",
     "output_type": "stream",
     "text": [
      "0.000725044055825083\n"
     ]
    },
    {
     "data": {
      "text/plain": [
       "[<matplotlib.lines.Line2D at 0x1ff18ecfdd8>]"
      ]
     },
     "execution_count": 247,
     "metadata": {},
     "output_type": "execute_result"
    },
    {
     "data": {
      "image/png": "[encoded data removed]",
      "text/plain": [
       "<Figure size 432x288 with 1 Axes>"
      ]
     },
     "metadata": {
      "needs_background": "light"
     },
     "output_type": "display_data"
    }
   ],
   "source": [
    "y_pred = model.predict(X_test)\n",
    "print(mean_squared_error(y_pred, y_test))\n",
    "plt.plot(y_pred, y_test, 'x')"
   ]
  },
  {
   "cell_type": "markdown",
   "metadata": {},
   "source": [
    "#### Compare with other regressors"
   ]
  },
  {
   "cell_type": "code",
   "execution_count": 248,
   "metadata": {},
   "outputs": [
    {
     "name": "stdout",
     "output_type": "stream",
     "text": [
      "0.001153230195969006\n"
     ]
    },
    {
     "data": {
      "text/plain": [
       "[<matplotlib.lines.Line2D at 0x1ff18937a20>]"
      ]
     },
     "execution_count": 248,
     "metadata": {},
     "output_type": "execute_result"
    },
    {
     "data": {
      "image/png": "[encoded data removed]",
      "text/plain": [
       "<Figure size 432x288 with 1 Axes>"
      ]
     },
     "metadata": {
      "needs_background": "light"
     },
     "output_type": "display_data"
    }
   ],
   "source": [
    "from sklearn.linear_model import LinearRegression\n",
    "reg = LinearRegression().fit(X_train, y_train)\n",
    "y_pred = reg.predict(X_test)\n",
    "print(mean_squared_error(y_pred, y_test))\n",
    "plt.plot(y_pred, y_test, 'x')"
   ]
  },
  {
   "cell_type": "code",
   "execution_count": 249,
   "metadata": {},
   "outputs": [
    {
     "name": "stdout",
     "output_type": "stream",
     "text": [
      "0.0009046689416421675\n"
     ]
    },
    {
     "data": {
      "text/plain": [
       "[<matplotlib.lines.Line2D at 0x1ff1896ac18>]"
      ]
     },
     "execution_count": 249,
     "metadata": {},
     "output_type": "execute_result"
    },
    {
     "data": {
      "image/png": "[encoded data removed]",
      "text/plain": [
       "<Figure size 432x288 with 1 Axes>"
      ]
     },
     "metadata": {
      "needs_background": "light"
     },
     "output_type": "display_data"
    }
   ],
   "source": [
    "from sklearn.ensemble import RandomForestRegressor\n",
    "reg = RandomForestRegressor(max_depth=15, random_state=0, n_estimators=100)\n",
    "reg.fit(X_train, y_train.reshape(len(y_train)))\n",
    "y_pred = reg.predict(X_test)\n",
    "print(mean_squared_error(y_pred, y_test))\n",
    "plt.plot(y_pred, y_test, 'x')"
   ]
  },
  {
   "cell_type": "code",
   "execution_count": 250,
   "metadata": {},
   "outputs": [
    {
     "name": "stdout",
     "output_type": "stream",
     "text": [
      "0.0013523394330071327\n"
     ]
    },
    {
     "data": {
      "text/plain": [
       "[<matplotlib.lines.Line2D at 0x1ff18f7dac8>]"
      ]
     },
     "execution_count": 250,
     "metadata": {},
     "output_type": "execute_result"
    },
    {
     "data": {
      "image/png": "[encoded data removed]",
      "text/plain": [
       "<Figure size 432x288 with 1 Axes>"
      ]
     },
     "metadata": {
      "needs_background": "light"
     },
     "output_type": "display_data"
    }
   ],
   "source": [
    "from sklearn.tree import DecisionTreeRegressor\n",
    "from sklearn.ensemble import AdaBoostRegressor\n",
    "reg = DecisionTreeRegressor(max_depth=4, random_state=100)\n",
    "reg.fit(X_train, y_train.reshape(len(y_train)))\n",
    "y_pred = reg.predict(X_test)\n",
    "print(mean_squared_error(y_pred, y_test))\n",
    "plt.plot(y_pred, y_test, 'x')"
   ]
  },
  {
   "cell_type": "code",
   "execution_count": 251,
   "metadata": {},
   "outputs": [
    {
     "name": "stdout",
     "output_type": "stream",
     "text": [
      "0.001027127569484053\n"
     ]
    },
    {
     "data": {
      "text/plain": [
       "[<matplotlib.lines.Line2D at 0x1ff1903d1d0>]"
      ]
     },
     "execution_count": 251,
     "metadata": {},
     "output_type": "execute_result"
    },
    {
     "data": {
      "image/png": "[encoded data removed]",
      "text/plain": [
       "<Figure size 432x288 with 1 Axes>"
      ]
     },
     "metadata": {
      "needs_background": "light"
     },
     "output_type": "display_data"
    }
   ],
   "source": [
    "reg = AdaBoostRegressor(DecisionTreeRegressor(max_depth=4),\n",
    "                          n_estimators=1000, random_state=100)\n",
    "reg.fit(X_train, y_train.reshape(len(y_train)))\n",
    "y_pred = reg.predict(X_test)\n",
    "print(mean_squared_error(y_pred, y_test))\n",
    "plt.plot(y_pred, y_test, 'x')"
   ]
  },
  {
   "cell_type": "code",
   "execution_count": 252,
   "metadata": {},
   "outputs": [
    {
     "data": {
      "text/plain": [
       "252"
      ]
     },
     "execution_count": 252,
     "metadata": {},
     "output_type": "execute_result"
    }
   ],
   "source": [
    "len(y_train)"
   ]
  },
  {
   "cell_type": "code",
   "execution_count": null,
   "metadata": {},
   "outputs": [],
   "source": []
  },
  {
   "cell_type": "code",
   "execution_count": null,
   "metadata": {},
   "outputs": [],
   "source": []
  }
 ],
 "metadata": {
  "kernelspec": {
   "display_name": "Python 3",
   "language": "python",
   "name": "python3"
  },
  "language_info": {
   "codemirror_mode": {
    "name": "ipython",
    "version": 3
   },
   "file_extension": ".py",
   "mimetype": "text/x-python",
   "name": "python",
   "nbconvert_exporter": "python",
   "pygments_lexer": "ipython3",
   "version": "3.6.8"
  }
 },
 "nbformat": 4,
 "nbformat_minor": 2
}
